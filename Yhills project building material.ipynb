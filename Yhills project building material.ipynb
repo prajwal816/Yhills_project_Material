{
 "cells": [
  {
   "cell_type": "markdown",
   "id": "12b5f558",
   "metadata": {},
   "source": [
    "## *Code to remove outliers (till 3 cells below)**"
   ]
  },
  {
   "cell_type": "code",
   "execution_count": null,
   "id": "68e8667b",
   "metadata": {},
   "outputs": [],
   "source": [
    "def remove_outlier(col):\n",
    "    sorted(col)\n",
    "    Q1,Q3=col.quantile([0.25,0.75])\n",
    "    IQR=Q3-Q1\n",
    "    lower_range=Q1-(1.5*IQR)\n",
    "    upper_range=Q3-(1.5*IQR)\n",
    "    return lower_range,upper_range"
   ]
  },
  {
   "cell_type": "code",
   "execution_count": null,
   "id": "00c44709",
   "metadata": {},
   "outputs": [],
   "source": [
    "lowAmount,uppAmount=remove_outlier(train_set[\"longitude_of_pickup\"])\n",
    "train_set[\"longitude_of_pickup\"]=np.where(train_set[\"longitude_of_pickup\"]>uppAmount,uppAmount,train_set[\"longitude_of_pickup\"])\n",
    "train_set[\"longitude_of_pickup\"]=np.where(train_set[\"longitude_of_pickup\"]>lowAmount,lowAmount,train_set[\"longitude_of_pickup\"])"
   ]
  },
  {
   "cell_type": "code",
   "execution_count": null,
   "id": "86d205b1",
   "metadata": {},
   "outputs": [],
   "source": [
    "sns.boxplot(x=\"longitude_of_pickup\",data=train_set)"
   ]
  },
  {
   "cell_type": "markdown",
   "id": "aae961c0",
   "metadata": {},
   "source": [
    "# *Heat map**"
   ]
  },
  {
   "cell_type": "code",
   "execution_count": 3,
   "id": "a5d79fd1",
   "metadata": {},
   "outputs": [],
   "source": [
    "from sklearn.metrics import confusion_matrix,classification_report,accuracy_score #heat map"
   ]
  },
  {
   "cell_type": "code",
   "execution_count": 4,
   "id": "1a1d92ca",
   "metadata": {},
   "outputs": [
    {
     "ename": "NameError",
     "evalue": "name 'reg' is not defined",
     "output_type": "error",
     "traceback": [
      "\u001b[1;31m---------------------------------------------------------------------------\u001b[0m",
      "\u001b[1;31mNameError\u001b[0m                                 Traceback (most recent call last)",
      "Cell \u001b[1;32mIn[4], line 1\u001b[0m\n\u001b[1;32m----> 1\u001b[0m predictions\u001b[38;5;241m=\u001b[39mreg\u001b[38;5;241m.\u001b[39mpredict(X_test)\n\u001b[0;32m      2\u001b[0m cm\u001b[38;5;241m=\u001b[39mmetrics\u001b[38;5;241m.\u001b[39mconfusion_matrix(Y_test,predictions,labels\u001b[38;5;241m=\u001b[39m[\u001b[38;5;241m1\u001b[39m,\u001b[38;5;241m0\u001b[39m])\n\u001b[0;32m      3\u001b[0m df_cm\u001b[38;5;241m=\u001b[39mpd\u001b[38;5;241m.\u001b[39mDataFrame(cm,index\u001b[38;5;241m=\u001b[39m[i \u001b[38;5;28;01mfor\u001b[39;00m i \u001b[38;5;129;01min\u001b[39;00m [\u001b[38;5;124m\"\u001b[39m\u001b[38;5;124m1\u001b[39m\u001b[38;5;124m\"\u001b[39m,\u001b[38;5;124m\"\u001b[39m\u001b[38;5;124m0\u001b[39m\u001b[38;5;124m\"\u001b[39m]],columns \u001b[38;5;241m=\u001b[39m [i \u001b[38;5;28;01mfor\u001b[39;00m i \u001b[38;5;129;01min\u001b[39;00m [\u001b[38;5;124m\"\u001b[39m\u001b[38;5;124mPredict 1\u001b[39m\u001b[38;5;124m\"\u001b[39m,\u001b[38;5;124m\"\u001b[39m\u001b[38;5;124mPredict 0\u001b[39m\u001b[38;5;124m\"\u001b[39m]] )\n",
      "\u001b[1;31mNameError\u001b[0m: name 'reg' is not defined"
     ]
    }
   ],
   "source": [
    "predictions=reg.predict(X_test)\n",
    "cm=metrics.confusion_matrix(Y_test,predictions,labels=[1,0])\n",
    "df_cm=pd.DataFrame(cm,index=[i for i in [\"1\",\"0\"]],columns = [i for i in [\"Predict 1\",\"Predict 0\"]] )\n",
    "\n",
    "sns.heatmap(df_cm,annot=True, fmt='g')"
   ]
  },
  {
   "cell_type": "markdown",
   "id": "27c70fb3",
   "metadata": {},
   "source": [
    "# *Removing Missing values with mean median mode**"
   ]
  },
  {
   "cell_type": "markdown",
   "id": "8fe51abc",
   "metadata": {},
   "source": [
    "## Important points"
   ]
  },
  {
   "cell_type": "code",
   "execution_count": null,
   "id": "ac643e0e",
   "metadata": {},
   "outputs": [],
   "source": [
    "#float64 by (mean median )\n",
    "#object by mode"
   ]
  },
  {
   "cell_type": "markdown",
   "id": "1447fc31",
   "metadata": {},
   "source": [
    " ## placing missing values for float64"
   ]
  },
  {
   "cell_type": "code",
   "execution_count": null,
   "id": "090b3864",
   "metadata": {},
   "outputs": [],
   "source": [
    "# replacing null values in numerical columns using median\n",
    "\n",
    "median1=df[\"age\"].median()\n",
    "\n",
    "df[\"age\"]=df[\"age\"].replace(np.nan,median1)\n"
   ]
  },
  {
   "cell_type": "code",
   "execution_count": null,
   "id": "afd3dcc2",
   "metadata": {},
   "outputs": [],
   "source": [
    "#check for missing values again\n",
    "df.isnull().sum()"
   ]
  },
  {
   "cell_type": "markdown",
   "id": "f8ca28f6",
   "metadata": {},
   "source": [
    "## placing missing values for object"
   ]
  },
  {
   "cell_type": "code",
   "execution_count": null,
   "id": "90496022",
   "metadata": {},
   "outputs": [],
   "source": [
    "# replacing null values in numerical columns using mode\n",
    "\n",
    "mode1=df[\"embarked\"].mode().values[0]\n",
    "\n",
    "df[\"embarked\"]=df[\"embarked\"].replace(np.nan,mode1)\n"
   ]
  },
  {
   "cell_type": "markdown",
   "id": "bf40420b",
   "metadata": {},
   "source": [
    "## Remove columns if there are too many missing values"
   ]
  },
  {
   "cell_type": "code",
   "execution_count": null,
   "id": "6a520150",
   "metadata": {},
   "outputs": [],
   "source": [
    "df=df.drop(\"cabin\",axis=1)"
   ]
  },
  {
   "cell_type": "code",
   "execution_count": null,
   "id": "bdc766dc",
   "metadata": {},
   "outputs": [],
   "source": [
    "df.isnull().sum()"
   ]
  },
  {
   "cell_type": "markdown",
   "id": "30cae73a",
   "metadata": {},
   "source": [
    "# *Duplicate data**"
   ]
  },
  {
   "cell_type": "code",
   "execution_count": null,
   "id": "9cdceb00",
   "metadata": {},
   "outputs": [],
   "source": [
    "duplicate=df.duplicated()\n",
    "print(duplicate.sum())\n",
    "df[duplicate]"
   ]
  },
  {
   "cell_type": "markdown",
   "id": "fdb46e83",
   "metadata": {},
   "source": [
    "# *Encoding changing the datatype(preffered for colums we do not use)**"
   ]
  },
  {
   "cell_type": "code",
   "execution_count": null,
   "id": "61d2120b",
   "metadata": {},
   "outputs": [],
   "source": [
    "df.types()"
   ]
  },
  {
   "cell_type": "code",
   "execution_count": null,
   "id": "7db11fed",
   "metadata": {},
   "outputs": [],
   "source": [
    "df.head()"
   ]
  },
  {
   "cell_type": "code",
   "execution_count": null,
   "id": "0af0ee47",
   "metadata": {},
   "outputs": [],
   "source": [
    "df=pd.get_dummies(df,columns=[\"sex\",\"embarked\"])"
   ]
  },
  {
   "cell_type": "code",
   "execution_count": null,
   "id": "2a3b4ccc",
   "metadata": {},
   "outputs": [],
   "source": [
    "df.head()"
   ]
  }
 ],
 "metadata": {
  "kernelspec": {
   "display_name": "Python 3 (ipykernel)",
   "language": "python",
   "name": "python3"
  },
  "language_info": {
   "codemirror_mode": {
    "name": "ipython",
    "version": 3
   },
   "file_extension": ".py",
   "mimetype": "text/x-python",
   "name": "python",
   "nbconvert_exporter": "python",
   "pygments_lexer": "ipython3",
   "version": "3.11.3"
  }
 },
 "nbformat": 4,
 "nbformat_minor": 5
}
